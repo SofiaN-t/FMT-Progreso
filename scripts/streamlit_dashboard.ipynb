{
 "cells": [
  {
   "cell_type": "code",
   "execution_count": 1,
   "metadata": {},
   "outputs": [],
   "source": [
    "import pandas as pd\n",
    "import numpy as np\n",
    "import geopandas as gpd"
   ]
  },
  {
   "cell_type": "code",
   "execution_count": 2,
   "metadata": {},
   "outputs": [
    {
     "data": {
      "text/html": [
       "<div>\n",
       "<style scoped>\n",
       "    .dataframe tbody tr th:only-of-type {\n",
       "        vertical-align: middle;\n",
       "    }\n",
       "\n",
       "    .dataframe tbody tr th {\n",
       "        vertical-align: top;\n",
       "    }\n",
       "\n",
       "    .dataframe thead th {\n",
       "        text-align: right;\n",
       "    }\n",
       "</style>\n",
       "<table border=\"1\" class=\"dataframe\">\n",
       "  <thead>\n",
       "    <tr style=\"text-align: right;\">\n",
       "      <th></th>\n",
       "      <th>deforestac</th>\n",
       "      <th>area_ha</th>\n",
       "      <th>st_area_sh</th>\n",
       "      <th>st_perimet</th>\n",
       "      <th>geometry</th>\n",
       "      <th>forest_characterization</th>\n",
       "    </tr>\n",
       "  </thead>\n",
       "  <tbody>\n",
       "    <tr>\n",
       "      <th>0</th>\n",
       "      <td>Conservado</td>\n",
       "      <td>3.916426e+07</td>\n",
       "      <td>31.837840</td>\n",
       "      <td>2200.965074</td>\n",
       "      <td>POLYGON ((-69.80131911999996 -1.05326415899997...</td>\n",
       "      <td>Non-lost</td>\n",
       "    </tr>\n",
       "    <tr>\n",
       "      <th>1</th>\n",
       "      <td>Conservado</td>\n",
       "      <td>3.916426e+07</td>\n",
       "      <td>31.837840</td>\n",
       "      <td>2200.965074</td>\n",
       "      <td>POLYGON ((-69.72384829399994 -2.89508960499995...</td>\n",
       "      <td>Non-lost</td>\n",
       "    </tr>\n",
       "    <tr>\n",
       "      <th>2</th>\n",
       "      <td>Conservado</td>\n",
       "      <td>3.916426e+07</td>\n",
       "      <td>31.837840</td>\n",
       "      <td>2200.965074</td>\n",
       "      <td>POLYGON ((-69.96809751399996 -1.27868294999996...</td>\n",
       "      <td>Non-lost</td>\n",
       "    </tr>\n",
       "    <tr>\n",
       "      <th>3</th>\n",
       "      <td>Conservado</td>\n",
       "      <td>3.916426e+07</td>\n",
       "      <td>31.837840</td>\n",
       "      <td>2200.965074</td>\n",
       "      <td>POLYGON ((-72.19563946099998 2.117321152000045...</td>\n",
       "      <td>Non-lost</td>\n",
       "    </tr>\n",
       "    <tr>\n",
       "      <th>4</th>\n",
       "      <td>Conservado</td>\n",
       "      <td>3.916426e+07</td>\n",
       "      <td>31.837840</td>\n",
       "      <td>2200.965074</td>\n",
       "      <td>POLYGON ((-70.47810411799998 3.073449832000051...</td>\n",
       "      <td>Non-lost</td>\n",
       "    </tr>\n",
       "    <tr>\n",
       "      <th>...</th>\n",
       "      <td>...</td>\n",
       "      <td>...</td>\n",
       "      <td>...</td>\n",
       "      <td>...</td>\n",
       "      <td>...</td>\n",
       "      <td>...</td>\n",
       "    </tr>\n",
       "    <tr>\n",
       "      <th>29070</th>\n",
       "      <td>Recuperado</td>\n",
       "      <td>1.214595e+02</td>\n",
       "      <td>0.000099</td>\n",
       "      <td>0.276054</td>\n",
       "      <td>POLYGON ((-73.07336228799994 2.118223721000049...</td>\n",
       "      <td>Non-lost</td>\n",
       "    </tr>\n",
       "    <tr>\n",
       "      <th>29071</th>\n",
       "      <td>Recuperado</td>\n",
       "      <td>1.214595e+02</td>\n",
       "      <td>0.000099</td>\n",
       "      <td>0.276054</td>\n",
       "      <td>POLYGON ((-73.07402980599994 2.119319517000065...</td>\n",
       "      <td>Non-lost</td>\n",
       "    </tr>\n",
       "    <tr>\n",
       "      <th>29072</th>\n",
       "      <td>Recuperado</td>\n",
       "      <td>1.214595e+02</td>\n",
       "      <td>0.000099</td>\n",
       "      <td>0.276054</td>\n",
       "      <td>POLYGON ((-73.06993646699993 2.115777229000059...</td>\n",
       "      <td>Non-lost</td>\n",
       "    </tr>\n",
       "    <tr>\n",
       "      <th>29073</th>\n",
       "      <td>Recuperado</td>\n",
       "      <td>1.214595e+02</td>\n",
       "      <td>0.000099</td>\n",
       "      <td>0.276054</td>\n",
       "      <td>POLYGON ((-74.65799161999996 2.51180886100002,...</td>\n",
       "      <td>Non-lost</td>\n",
       "    </tr>\n",
       "    <tr>\n",
       "      <th>29074</th>\n",
       "      <td>Recuperado</td>\n",
       "      <td>1.214595e+02</td>\n",
       "      <td>0.000099</td>\n",
       "      <td>0.276054</td>\n",
       "      <td>POLYGON ((-75.71503363999994 0.698317943000063...</td>\n",
       "      <td>Non-lost</td>\n",
       "    </tr>\n",
       "  </tbody>\n",
       "</table>\n",
       "<p>29075 rows × 6 columns</p>\n",
       "</div>"
      ],
      "text/plain": [
       "       deforestac       area_ha  st_area_sh   st_perimet  \\\n",
       "0      Conservado  3.916426e+07   31.837840  2200.965074   \n",
       "1      Conservado  3.916426e+07   31.837840  2200.965074   \n",
       "2      Conservado  3.916426e+07   31.837840  2200.965074   \n",
       "3      Conservado  3.916426e+07   31.837840  2200.965074   \n",
       "4      Conservado  3.916426e+07   31.837840  2200.965074   \n",
       "...           ...           ...         ...          ...   \n",
       "29070  Recuperado  1.214595e+02    0.000099     0.276054   \n",
       "29071  Recuperado  1.214595e+02    0.000099     0.276054   \n",
       "29072  Recuperado  1.214595e+02    0.000099     0.276054   \n",
       "29073  Recuperado  1.214595e+02    0.000099     0.276054   \n",
       "29074  Recuperado  1.214595e+02    0.000099     0.276054   \n",
       "\n",
       "                                                geometry  \\\n",
       "0      POLYGON ((-69.80131911999996 -1.05326415899997...   \n",
       "1      POLYGON ((-69.72384829399994 -2.89508960499995...   \n",
       "2      POLYGON ((-69.96809751399996 -1.27868294999996...   \n",
       "3      POLYGON ((-72.19563946099998 2.117321152000045...   \n",
       "4      POLYGON ((-70.47810411799998 3.073449832000051...   \n",
       "...                                                  ...   \n",
       "29070  POLYGON ((-73.07336228799994 2.118223721000049...   \n",
       "29071  POLYGON ((-73.07402980599994 2.119319517000065...   \n",
       "29072  POLYGON ((-73.06993646699993 2.115777229000059...   \n",
       "29073  POLYGON ((-74.65799161999996 2.51180886100002,...   \n",
       "29074  POLYGON ((-75.71503363999994 0.698317943000063...   \n",
       "\n",
       "      forest_characterization  \n",
       "0                    Non-lost  \n",
       "1                    Non-lost  \n",
       "2                    Non-lost  \n",
       "3                    Non-lost  \n",
       "4                    Non-lost  \n",
       "...                       ...  \n",
       "29070                Non-lost  \n",
       "29071                Non-lost  \n",
       "29072                Non-lost  \n",
       "29073                Non-lost  \n",
       "29074                Non-lost  \n",
       "\n",
       "[29075 rows x 6 columns]"
      ]
     },
     "execution_count": 2,
     "metadata": {},
     "output_type": "execute_result"
    }
   ],
   "source": [
    "path = r\"C:\\Users\\lueva\\OneDrive\\Documentos\\EAE\\Code\\Progreso\\Colombian_amazonas.csv\"\n",
    "colombia = pd.read_csv(path)\n",
    "colombia"
   ]
  },
  {
   "cell_type": "code",
   "execution_count": 12,
   "metadata": {},
   "outputs": [
    {
     "data": {
      "text/plain": [
       "39164257.31286699"
      ]
     },
     "execution_count": 12,
     "metadata": {},
     "output_type": "execute_result"
    }
   ],
   "source": [
    "colombia[colombia[\"deforestac\"] == 'Conservado'][\"area_ha\"].mean()"
   ]
  },
  {
   "cell_type": "code",
   "execution_count": 14,
   "metadata": {},
   "outputs": [
    {
     "name": "stdout",
     "output_type": "stream",
     "text": [
      "Conservado mean area in hectares: 39164257.31286699\n",
      "Otras coberturas mean area in hectares: 8858831.4998655\n",
      "Perdida mean area in hectares: 284407.41288089\n",
      "Recuperado mean area in hectares: 121.45949799999998\n"
     ]
    }
   ],
   "source": [
    "types = pd.unique(colombia[\"deforestac\"])\n",
    "types[0]\n",
    "\n",
    "for t in types:\n",
    "    mean_area = colombia[colombia[\"deforestac\"] == t][\"area_ha\"].mean()\n",
    "    print(str(t) + \" mean area in hectares: \" + str(mean_area))\n"
   ]
  },
  {
   "cell_type": "code",
   "execution_count": 16,
   "metadata": {},
   "outputs": [
    {
     "name": "stdout",
     "output_type": "stream",
     "text": [
      "Conservado has 6881 polygons\n",
      "Otras coberturas has 9028 polygons\n",
      "Perdida has 13154 polygons\n",
      "Recuperado has 12 polygons\n"
     ]
    }
   ],
   "source": [
    "for t in types:\n",
    "    number_of_polygons = colombia[colombia[\"deforestac\"] == t][\"area_ha\"].count()\n",
    "    print(str(t) + \" has \" + str(number_of_polygons) + \" polygons\")"
   ]
  },
  {
   "cell_type": "code",
   "execution_count": null,
   "metadata": {},
   "outputs": [],
   "source": []
  }
 ],
 "metadata": {
  "kernelspec": {
   "display_name": "Python 3",
   "language": "python",
   "name": "python3"
  },
  "language_info": {
   "codemirror_mode": {
    "name": "ipython",
    "version": 3
   },
   "file_extension": ".py",
   "mimetype": "text/x-python",
   "name": "python",
   "nbconvert_exporter": "python",
   "pygments_lexer": "ipython3",
   "version": "3.12.0"
  }
 },
 "nbformat": 4,
 "nbformat_minor": 2
}
